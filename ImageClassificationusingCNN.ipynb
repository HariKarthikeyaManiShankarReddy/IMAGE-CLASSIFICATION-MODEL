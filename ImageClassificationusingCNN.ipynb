# Importing required libraries
import tensorflow as tf
import matplotlib.pyplot as plt
import numpy as np
from tensorflow.keras import datasets, layers, models
from sklearn.metrics import classification_report, confusion_matrix

# Importing the dataset
(x_train, y_train), (x_test, y_test) = datasets.cifar10.load_data()

# Labeling the classes correctly
classes = ['airplane', 'automobile', 'bird', 'cat', 'deer', 'dog', 'frog', 'horse', 'ship', 'truck']

# Reshaping labels
y_train = y_train.reshape(-1,)
y_test = y_test.reshape(-1,)

# Function to plot an image
def plot_image(x, y, index):
    plt.figure(figsize=(2,2))
    plt.imshow(x[index])
    plt.xlabel(classes[y[index]])
    plt.show()

# Normalizing pixel values
x_train = x_train / 255.0
x_test = x_test / 255.0

# **Building an Artificial Neural Network (ANN)**
ann = models.Sequential([
    layers.Flatten(input_shape=(32,32,3)),
    layers.Dense(3000, activation='relu'),
    layers.Dense(1000, activation='relu'),
    layers.Dense(10, activation='sigmoid')  # Fixed activation function
])

ann.compile(optimizer='SGD', loss='sparse_categorical_crossentropy', metrics=['accuracy'])
ann.fit(x_train, y_train, epochs=5)
ann.evaluate(x_test, y_test)

# ANN Predictions
y_pred_ann = ann.predict(x_test)
y_pred_classes_ann = [np.argmax(element) for element in y_pred_ann]

print("ANN Classification Report:\n", classification_report(y_test, y_pred_classes_ann))

# **Building a Convolutional Neural Network (CNN)**
cnn = models.Sequential([
    layers.Conv2D(filters=32, kernel_size=(3,3), activation='relu', input_shape=(32,32,3)),
    layers.MaxPooling2D(pool_size=(2,2)),
    layers.Conv2D(filters=64, kernel_size=(3,3), activation='relu'),
    layers.MaxPooling2D(pool_size=(2,2)),
    layers.Conv2D(filters=128, kernel_size=(3,3), activation='relu'),  # Added extra Conv layer
    layers.MaxPooling2D(pool_size=(2,2)),
    layers.Flatten(),
    layers.Dense(128, activation='relu'),  # Increased neuron count
    layers.Dense(10, activation='softmax')  # Correct output activation
])

cnn.compile(optimizer='adam', loss='sparse_categorical_crossentropy', metrics=['accuracy'])
cnn.fit(x_train, y_train, epochs=10)

# Evaluating CNN
cnn.evaluate(x_test, y_test)

# CNN Predictions
y_pred_cnn = cnn.predict(x_test)
y_pred_classes_cnn = [np.argmax(element) for element in y_pred_cnn]

print("CNN Classification Report:\n", classification_report(y_test, y_pred_classes_cnn))

# Plot a test image with predicted label
plot_image(x_test, y_test, 9)
print("Predicted Class:", classes[y_pred_classes_cnn[9]])
